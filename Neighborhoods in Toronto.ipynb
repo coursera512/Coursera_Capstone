{
 "cells": [
  {
   "cell_type": "markdown",
   "metadata": {
    "collapsed": true
   },
   "source": [
    "<h1>Peer-graded Assignment: Segmenting and Clustering Neighborhoods in Toronto</h1>"
   ]
  },
  {
   "cell_type": "markdown",
   "metadata": {},
   "source": [
    "<h2>Submission 1:<br/>Creation of initial data frame.</h2>"
   ]
  },
  {
   "cell_type": "code",
   "execution_count": 1,
   "metadata": {},
   "outputs": [],
   "source": [
    "from bs4 import BeautifulSoup\n",
    "import pandas as pd\n",
    "import urllib"
   ]
  },
  {
   "cell_type": "code",
   "execution_count": 2,
   "metadata": {},
   "outputs": [],
   "source": [
    "# Load the data set for parsing with BeautifulSoup\n",
    "data_link=\"https://en.wikipedia.org/wiki/List_of_postal_codes_of_Canada:_M\"\n",
    "resp = urllib.request.urlopen(data_link)\n",
    "\n",
    "soup = BeautifulSoup(resp.read())\n",
    "table = soup.table\n",
    "rows = table.find_all('tr')"
   ]
  },
  {
   "cell_type": "markdown",
   "metadata": {},
   "source": [
    "<h3>\n",
    "    Assumptions:\n",
    "    <li>The zipcode has no hyperlinks and does not need extra processing.</li>\n",
    "    <br/>\n",
    "    Process the loaded data and perform the following actions:\n",
    "    <li>If the row does not contain 3 items, drop the row.</li>\n",
    "    <li>If a column contains a hyperlink, get the text from the hyperlink.</li>\n",
    "    <li>If a column does not contain a hyperlink, use the text from that column.</li>\n",
    "    <li>Remove all trailing whitespace from neighborhoods.</li>\n",
    "    <li>If the row boroughs is 'Not assigned', drop the row.</li>\n",
    "    <li>If the row neighborhood is 'Not assigned', use the boroughs name as the neighborhood name.</li>\n",
    "</h3>"
   ]
  },
  {
   "cell_type": "code",
   "execution_count": 3,
   "metadata": {},
   "outputs": [],
   "source": [
    "remapped_data = []\n",
    "for row in rows:\n",
    "    cols = row.find_all('td')\n",
    "    if len(cols) == 3:        \n",
    "        zipcode = cols[0].string\n",
    "\n",
    "        if cols[1].find('a'):\n",
    "            borough = cols[1].a.string\n",
    "        else:\n",
    "            borough = cols[1].string\n",
    "\n",
    "        # Skip boroughs with name 'Not assigned'\n",
    "        if borough == 'Not assigned':\n",
    "            continue\n",
    "            \n",
    "        if cols[2].find('a'):\n",
    "            neighborhood = cols[2].a.string.rstrip()\n",
    "        else:\n",
    "            neighborhood = cols[2].string.rstrip()\n",
    "\n",
    "        if neighborhood == 'Not assigned':\n",
    "            neighborhood = borough\n",
    "\n",
    "        remapped_data.append([zipcode, borough, neighborhood])\n",
    "        \n",
    "# print(remapped_data)"
   ]
  },
  {
   "cell_type": "markdown",
   "metadata": {},
   "source": [
    "<h3>Since multiple neighborhoods can exist in the same zip code, a single zipcode entry needs to aggregate all of the child neighborhoods (separated by commas).  It is assumed that a zipcode will only cover one borough.</h3>"
   ]
  },
  {
   "cell_type": "code",
   "execution_count": 4,
   "metadata": {},
   "outputs": [],
   "source": [
    "zipcode_map = {}\n",
    "\n",
    "for entry in remapped_data:\n",
    "    zipcode = entry[0]\n",
    "#     print(\"{} {}\".format(entry, zipcode))\n",
    "    if zipcode not in zipcode_map:\n",
    "        # add borough and neighborhood to the new entry\n",
    "        zipcode_map[zipcode] = [entry[1], entry[2]]\n",
    "    else:\n",
    "        # append this entry neighborhood to the existing record's neighborhood\n",
    "        existing_entry = zipcode_map[zipcode]\n",
    "        existing_entry[1] += \", \"\n",
    "        existing_entry[1] += entry[2]\n",
    "\n",
    "# print(duplicate_zipcode_map)"
   ]
  },
  {
   "cell_type": "code",
   "execution_count": 5,
   "metadata": {},
   "outputs": [],
   "source": [
    "# load the dataframe with the contents of the dictionary\n",
    "df = pd.DataFrame(columns=['Postcode', 'Borough', 'Neighborhood'])\n",
    "\n",
    "i = 0\n",
    "for entry in zipcode_map:\n",
    "    zipcode_data = zipcode_map[entry]\n",
    "    df.loc[i] = [entry, zipcode_data[0], zipcode_data[1]]\n",
    "    i += 1\n",
    "    \n",
    "# print(df)"
   ]
  },
  {
   "cell_type": "code",
   "execution_count": 6,
   "metadata": {
    "scrolled": true
   },
   "outputs": [
    {
     "name": "stdout",
     "output_type": "stream",
     "text": [
      "(103, 3)\n"
     ]
    }
   ],
   "source": [
    "print(df.shape)"
   ]
  },
  {
   "cell_type": "markdown",
   "metadata": {},
   "source": [
    "<h2>Submission 2:<br/>Assign location information.</h2>"
   ]
  },
  {
   "cell_type": "code",
   "execution_count": null,
   "metadata": {},
   "outputs": [],
   "source": []
  },
  {
   "cell_type": "markdown",
   "metadata": {},
   "source": [
    "<h2>Submission 3:<br/>Visualization of Toronto data.</h2>"
   ]
  },
  {
   "cell_type": "code",
   "execution_count": null,
   "metadata": {},
   "outputs": [],
   "source": []
  }
 ],
 "metadata": {
  "kernelspec": {
   "display_name": "Python 3.6",
   "language": "python",
   "name": "python3"
  },
  "language_info": {
   "codemirror_mode": {
    "name": "ipython",
    "version": 3
   },
   "file_extension": ".py",
   "mimetype": "text/x-python",
   "name": "python",
   "nbconvert_exporter": "python",
   "pygments_lexer": "ipython3",
   "version": "3.6.8"
  }
 },
 "nbformat": 4,
 "nbformat_minor": 1
}
