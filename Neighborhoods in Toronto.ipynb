{
 "cells": [
  {
   "cell_type": "markdown",
   "metadata": {
    "collapsed": true
   },
   "source": [
    "<h1>Peer-graded Assignment: Segmenting and Clustering Neighborhoods in Toronto</h1>"
   ]
  },
  {
   "cell_type": "markdown",
   "metadata": {},
   "source": [
    "<h2>Submission 1:<br/>Creation of initial data frame.</h2>"
   ]
  },
  {
   "cell_type": "code",
   "execution_count": 1,
   "metadata": {},
   "outputs": [],
   "source": [
    "from bs4 import BeautifulSoup\n",
    "import pandas as pd\n",
    "import urllib"
   ]
  },
  {
   "cell_type": "code",
   "execution_count": 2,
   "metadata": {},
   "outputs": [],
   "source": [
    "# Load the data set for parsing with BeautifulSoup\n",
    "data_link=\"https://en.wikipedia.org/wiki/List_of_postal_codes_of_Canada:_M\"\n",
    "resp = urllib.request.urlopen(data_link)\n",
    "\n",
    "soup = BeautifulSoup(resp.read())\n",
    "table = soup.table\n",
    "rows = table.find_all('tr')"
   ]
  },
  {
   "cell_type": "markdown",
   "metadata": {},
   "source": [
    "<h3>\n",
    "    Assumptions:\n",
    "    <li>The zipcode has no hyperlinks and does not need extra processing.</li>\n",
    "    <br/>\n",
    "    Process the loaded data and perform the following actions:\n",
    "    <li>If the row does not contain 3 items, drop the row.</li>\n",
    "    <li>If a column contains a hyperlink, get the text from the hyperlink.</li>\n",
    "    <li>If a column does not contain a hyperlink, use the text from that column.</li>\n",
    "    <li>Remove all trailing whitespace from neighborhoods.</li>\n",
    "    <li>If the row boroughs is 'Not assigned', drop the row.</li>\n",
    "    <li>If the row neighborhood is 'Not assigned', use the boroughs name as the neighborhood name.</li>\n",
    "</h3>"
   ]
  },
  {
   "cell_type": "code",
   "execution_count": 3,
   "metadata": {},
   "outputs": [],
   "source": [
    "remapped_data = []\n",
    "for row in rows:\n",
    "    cols = row.find_all('td')\n",
    "    if len(cols) == 3:        \n",
    "        zipcode = cols[0].string\n",
    "\n",
    "        if cols[1].find('a'):\n",
    "            borough = cols[1].a.string\n",
    "        else:\n",
    "            borough = cols[1].string\n",
    "\n",
    "        # Skip boroughs with name 'Not assigned'\n",
    "        if borough == 'Not assigned':\n",
    "            continue\n",
    "            \n",
    "        if cols[2].find('a'):\n",
    "            neighborhood = cols[2].a.string.rstrip()\n",
    "        else:\n",
    "            neighborhood = cols[2].string.rstrip()\n",
    "\n",
    "        if neighborhood == 'Not assigned':\n",
    "            neighborhood = borough\n",
    "\n",
    "        remapped_data.append([zipcode, borough, neighborhood])\n",
    "        \n",
    "# print(remapped_data)"
   ]
  },
  {
   "cell_type": "markdown",
   "metadata": {},
   "source": [
    "<h3>Since multiple neighborhoods can exist in the same zip code, a single zipcode entry needs to aggregate all of the child neighborhoods (separated by commas).  It is assumed that a zipcode will only cover one borough.</h3>"
   ]
  },
  {
   "cell_type": "code",
   "execution_count": 4,
   "metadata": {},
   "outputs": [],
   "source": [
    "zipcode_map = {}\n",
    "\n",
    "for entry in remapped_data:\n",
    "    zipcode = entry[0]\n",
    "    if zipcode not in zipcode_map:\n",
    "        # add borough and neighborhood to the new entry\n",
    "        zipcode_map[zipcode] = [entry[1], entry[2]]\n",
    "    else:\n",
    "        # append this entry neighborhood to the existing record's neighborhood\n",
    "        existing_entry = zipcode_map[zipcode]\n",
    "        existing_entry[1] += \", \"\n",
    "        existing_entry[1] += entry[2]\n",
    "\n",
    "# print(duplicate_zipcode_map)"
   ]
  },
  {
   "cell_type": "code",
   "execution_count": 5,
   "metadata": {},
   "outputs": [],
   "source": [
    "# load the dataframe with the contents of the dictionary\n",
    "df = pd.DataFrame(columns=['Postcode', 'Borough', 'Neighborhood'])\n",
    "\n",
    "i = 0\n",
    "for entry in zipcode_map:\n",
    "    zipcode_data = zipcode_map[entry]\n",
    "    df.loc[i] = [entry, zipcode_data[0], zipcode_data[1]]\n",
    "    i += 1\n",
    "    \n",
    "# print(df)"
   ]
  },
  {
   "cell_type": "code",
   "execution_count": 6,
   "metadata": {
    "scrolled": true
   },
   "outputs": [
    {
     "name": "stdout",
     "output_type": "stream",
     "text": [
      "(103, 3)\n"
     ]
    }
   ],
   "source": [
    "print(df.shape)"
   ]
  },
  {
   "cell_type": "markdown",
   "metadata": {},
   "source": [
    "<h2>Submission 2:<br/>Assign location information.</h2>"
   ]
  },
  {
   "cell_type": "code",
   "execution_count": 21,
   "metadata": {},
   "outputs": [
    {
     "name": "stdout",
     "output_type": "stream",
     "text": [
      "  Postcode           Borough                      Neighborhood   Latitude  \\\n",
      "0      M3A        North York                         Parkwoods  43.753259   \n",
      "1      M4A        North York                  Victoria Village  43.725882   \n",
      "2      M5A  Downtown Toronto         Harbourfront, Regent Park  43.654260   \n",
      "3      M6A        North York  Lawrence Heights, Lawrence Manor  43.718518   \n",
      "4      M7A      Queen's Park                      Queen's Park  43.662301   \n",
      "\n",
      "   Longitude  \n",
      "0 -79.329656  \n",
      "1 -79.315572  \n",
      "2 -79.360636  \n",
      "3 -79.464763  \n",
      "4 -79.389494  \n"
     ]
    }
   ],
   "source": [
    "location_data_source = \"https://cocl.us/Geospatial_data\"\n",
    "\n",
    "location_df = pd.read_csv(location_data_source)\n",
    "# print(location_df)\n",
    "\n",
    "df_with_lat_lon = pd.merge(df, location_df, left_on='Postcode', right_on='Postal Code', how='inner')\n",
    "# b = a(['Postcode', 'Borough', 'Neighborhood', 'Latitude', 'Longitude'])\n",
    "df_with_lat_lon.drop(['Postal Code'], axis=1, inplace=True)\n",
    "print(df_with_lat_lon.head())"
   ]
  },
  {
   "cell_type": "code",
   "execution_count": 22,
   "metadata": {},
   "outputs": [
    {
     "name": "stdout",
     "output_type": "stream",
     "text": [
      "    Postcode           Borough  \\\n",
      "0        M3A        North York   \n",
      "1        M4A        North York   \n",
      "2        M5A  Downtown Toronto   \n",
      "3        M6A        North York   \n",
      "4        M7A      Queen's Park   \n",
      "5        M9A         Etobicoke   \n",
      "6        M1B       Scarborough   \n",
      "7        M3B        North York   \n",
      "8        M4B         East York   \n",
      "9        M5B  Downtown Toronto   \n",
      "10       M6B        North York   \n",
      "11       M9B         Etobicoke   \n",
      "12       M1C       Scarborough   \n",
      "13       M3C        North York   \n",
      "14       M4C         East York   \n",
      "15       M5C  Downtown Toronto   \n",
      "16       M6C              York   \n",
      "17       M9C         Etobicoke   \n",
      "18       M1E       Scarborough   \n",
      "19       M4E      East Toronto   \n",
      "20       M5E  Downtown Toronto   \n",
      "21       M6E              York   \n",
      "22       M1G       Scarborough   \n",
      "23       M4G         East York   \n",
      "24       M5G  Downtown Toronto   \n",
      "25       M6G  Downtown Toronto   \n",
      "26       M1H       Scarborough   \n",
      "27       M2H        North York   \n",
      "28       M3H        North York   \n",
      "29       M4H         East York   \n",
      "..       ...               ...   \n",
      "73       M4R   Central Toronto   \n",
      "74       M5R   Central Toronto   \n",
      "75       M6R      West Toronto   \n",
      "76       M7R       Mississauga   \n",
      "77       M9R         Etobicoke   \n",
      "78       M1S       Scarborough   \n",
      "79       M4S   Central Toronto   \n",
      "80       M5S  Downtown Toronto   \n",
      "81       M6S      West Toronto   \n",
      "82       M1T       Scarborough   \n",
      "83       M4T   Central Toronto   \n",
      "84       M5T  Downtown Toronto   \n",
      "85       M1V       Scarborough   \n",
      "86       M4V   Central Toronto   \n",
      "87       M5V  Downtown Toronto   \n",
      "88       M8V         Etobicoke   \n",
      "89       M9V         Etobicoke   \n",
      "90       M1W       Scarborough   \n",
      "91       M4W  Downtown Toronto   \n",
      "92       M5W  Downtown Toronto   \n",
      "93       M8W         Etobicoke   \n",
      "94       M9W         Etobicoke   \n",
      "95       M1X       Scarborough   \n",
      "96       M4X  Downtown Toronto   \n",
      "97       M5X  Downtown Toronto   \n",
      "98       M8X         Etobicoke   \n",
      "99       M4Y  Downtown Toronto   \n",
      "100      M7Y      East Toronto   \n",
      "101      M8Y         Etobicoke   \n",
      "102      M8Z         Etobicoke   \n",
      "\n",
      "                                          Neighborhood  \n",
      "0                                            Parkwoods  \n",
      "1                                     Victoria Village  \n",
      "2                            Harbourfront, Regent Park  \n",
      "3                     Lawrence Heights, Lawrence Manor  \n",
      "4                                         Queen's Park  \n",
      "5                                     Islington Avenue  \n",
      "6                                       Rouge, Malvern  \n",
      "7                                      Don Mills North  \n",
      "8                      Woodbine Gardens, Parkview Hill  \n",
      "9                             Ryerson, Garden District  \n",
      "10                                           Glencairn  \n",
      "11   Cloverdale, Islington, Martin Grove, Princess ...  \n",
      "12              Highland Creek, Rouge Hill, Port Union  \n",
      "13                    Flemingdon Park, Don Mills South  \n",
      "14                                    Woodbine Heights  \n",
      "15                                      St. James Town  \n",
      "16                                  Humewood-Cedarvale  \n",
      "17   Bloordale Gardens, Eringate, Markland Wood, Ol...  \n",
      "18                   Guildwood, Morningside, West Hill  \n",
      "19                                         The Beaches  \n",
      "20                                         Berczy Park  \n",
      "21                                 Caledonia-Fairbanks  \n",
      "22                                              Woburn  \n",
      "23                                             Leaside  \n",
      "24                                  Central Bay Street  \n",
      "25                                            Christie  \n",
      "26                                           Cedarbrae  \n",
      "27                                   Hillcrest Village  \n",
      "28     Bathurst Manor, Downsview North, Wilson Heights  \n",
      "29                                    Thorncliffe Park  \n",
      "..                                                 ...  \n",
      "73                                  North Toronto West  \n",
      "74                 The Annex, North Midtown, Yorkville  \n",
      "75                              Parkdale, Roncesvalles  \n",
      "76               Canada Post Gateway Processing Centre  \n",
      "77   Kingsview Village, Martin Grove Gardens, Richv...  \n",
      "78                                           Agincourt  \n",
      "79                                          Davisville  \n",
      "80                      Harbord, University of Toronto  \n",
      "81                                  Runnymede, Swansea  \n",
      "82             Clarks Corners, Sullivan, Tam O'Shanter  \n",
      "83                         Moore Park, Summerhill East  \n",
      "84           Chinatown, Grange Park, Kensington Market  \n",
      "85   Agincourt North, L'Amoreaux East, Milliken, St...  \n",
      "86   Deer Park, Forest Hill SE, Rathnelly, South Hi...  \n",
      "87   CN Tower, Bathurst Quay, Island airport, Harbo...  \n",
      "88        Humber Bay Shores, Mimico South, New Toronto  \n",
      "89   Albion Gardens, Beaumond Heights, Humbergate, ...  \n",
      "90                                     L'Amoreaux West  \n",
      "91                                            Rosedale  \n",
      "92                     Stn A PO Boxes 25 The Esplanade  \n",
      "93                              Alderwood, Long Branch  \n",
      "94                                           Northwest  \n",
      "95                                         Upper Rouge  \n",
      "96                         Cabbagetown, St. James Town  \n",
      "97              First Canadian Place, Underground city  \n",
      "98       The Kingsway, Montgomery Road, Old Mill North  \n",
      "99                                Church and Wellesley  \n",
      "100  Business Reply Mail Processing Centre 969 Eastern  \n",
      "101  Humber Bay, King's Mill Park, Kingsway Park So...  \n",
      "102  Kingsway Park South West, Mimico NW, The Queen...  \n",
      "\n",
      "[103 rows x 3 columns]\n"
     ]
    }
   ],
   "source": [
    "print(df)"
   ]
  },
  {
   "cell_type": "markdown",
   "metadata": {},
   "source": [
    "<h2>Submission 3:<br/>Visualization of Toronto data.</h2>"
   ]
  },
  {
   "cell_type": "code",
   "execution_count": null,
   "metadata": {},
   "outputs": [],
   "source": []
  }
 ],
 "metadata": {
  "kernelspec": {
   "display_name": "Python 3.6",
   "language": "python",
   "name": "python3"
  },
  "language_info": {
   "codemirror_mode": {
    "name": "ipython",
    "version": 3
   },
   "file_extension": ".py",
   "mimetype": "text/x-python",
   "name": "python",
   "nbconvert_exporter": "python",
   "pygments_lexer": "ipython3",
   "version": "3.6.8"
  }
 },
 "nbformat": 4,
 "nbformat_minor": 1
}
