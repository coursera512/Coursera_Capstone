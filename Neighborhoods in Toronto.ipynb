{
 "cells": [
  {
   "cell_type": "markdown",
   "metadata": {
    "collapsed": true
   },
   "source": [
    "<h1>Peer-graded Assignment: Segmenting and Clustering Neighborhoods in Toronto</h1>"
   ]
  },
  {
   "cell_type": "markdown",
   "metadata": {},
   "source": [
    "<h2>Submission 1:<br/>Creation of initial data frame.</h2>"
   ]
  },
  {
   "cell_type": "code",
   "execution_count": 1,
   "metadata": {},
   "outputs": [],
   "source": [
    "from bs4 import BeautifulSoup\n",
    "import pandas as pd\n",
    "import urllib"
   ]
  },
  {
   "cell_type": "code",
   "execution_count": 2,
   "metadata": {},
   "outputs": [],
   "source": [
    "# Load the data set for parsing with BeautifulSoup\n",
    "data_link=\"https://en.wikipedia.org/wiki/List_of_postal_codes_of_Canada:_M\"\n",
    "resp = urllib.request.urlopen(data_link)\n",
    "\n",
    "soup = BeautifulSoup(resp.read())\n",
    "table = soup.table\n",
    "rows = table.find_all('tr')"
   ]
  },
  {
   "cell_type": "markdown",
   "metadata": {},
   "source": [
    "<h3>\n",
    "    Assumptions:\n",
    "    <li>The zipcode has no hyperlinks and does not need extra processing.</li>\n",
    "    <br/>\n",
    "    Process the loaded data and perform the following actions:\n",
    "    <li>If the row does not contain 3 items, drop the row.</li>\n",
    "    <li>If a column contains a hyperlink, get the text from the hyperlink.</li>\n",
    "    <li>If a column does not contain a hyperlink, use the text from that column.</li>\n",
    "    <li>Remove all trailing whitespace from neighborhoods.</li>\n",
    "    <li>If the row boroughs is 'Not assigned', drop the row.</li>\n",
    "    <li>If the row neighborhood is 'Not assigned', use the boroughs name as the neighborhood name.</li>\n",
    "</h3>"
   ]
  },
  {
   "cell_type": "code",
   "execution_count": 3,
   "metadata": {},
   "outputs": [],
   "source": [
    "remapped_data = []\n",
    "for row in rows:\n",
    "    cols = row.find_all('td')\n",
    "    if len(cols) == 3:        \n",
    "        zipcode = cols[0].string\n",
    "\n",
    "        if cols[1].find('a'):\n",
    "            borough = cols[1].a.string\n",
    "        else:\n",
    "            borough = cols[1].string\n",
    "\n",
    "        # Skip boroughs with name 'Not assigned'\n",
    "        if borough == 'Not assigned':\n",
    "            continue\n",
    "            \n",
    "        if cols[2].find('a'):\n",
    "            neighborhood = cols[2].a.string.rstrip()\n",
    "        else:\n",
    "            neighborhood = cols[2].string.rstrip()\n",
    "\n",
    "        if neighborhood == 'Not assigned':\n",
    "            neighborhood = borough\n",
    "\n",
    "        remapped_data.append([zipcode, borough, neighborhood])\n",
    "        \n",
    "# print(remapped_data)"
   ]
  },
  {
   "cell_type": "markdown",
   "metadata": {},
   "source": [
    "<h3>Since multiple neighborhoods can exist in the same zip code, a single zipcode entry needs to aggregate all of the child neighborhoods (separated by commas).  It is assumed that a zipcode will only cover one borough.</h3>"
   ]
  },
  {
   "cell_type": "code",
   "execution_count": 4,
   "metadata": {},
   "outputs": [],
   "source": [
    "zipcode_map = {}\n",
    "\n",
    "for entry in remapped_data:\n",
    "    zipcode = entry[0]\n",
    "    if zipcode not in zipcode_map:\n",
    "        # add borough and neighborhood to the new entry\n",
    "        zipcode_map[zipcode] = [entry[1], entry[2]]\n",
    "    else:\n",
    "        # append this entry neighborhood to the existing record's neighborhood\n",
    "        existing_entry = zipcode_map[zipcode]\n",
    "        existing_entry[1] += \", \"\n",
    "        existing_entry[1] += entry[2]\n",
    "\n",
    "# print(duplicate_zipcode_map)"
   ]
  },
  {
   "cell_type": "code",
   "execution_count": null,
   "metadata": {},
   "outputs": [],
   "source": [
    "# load the dataframe with the contents of the dictionary\n",
    "df = pd.DataFrame(columns=['Postcode', 'Borough', 'Neighborhood'])\n",
    "\n",
    "i = 0\n",
    "for entry in zipcode_map:\n",
    "    zipcode_data = zipcode_map[entry]\n",
    "    df.loc[i] = [entry, zipcode_data[0], zipcode_data[1]]\n",
    "    i += 1\n",
    "    \n",
    "# print(df)"
   ]
  },
  {
   "cell_type": "code",
   "execution_count": null,
   "metadata": {
    "scrolled": true
   },
   "outputs": [
    {
     "name": "stdout",
     "output_type": "stream",
     "text": [
      "(103, 3)\n"
     ]
    }
   ],
   "source": [
    "print(df.shape)"
   ]
  },
  {
   "cell_type": "markdown",
   "metadata": {},
   "source": [
    "<h2>Submission 2:<br/>Assign location information.</h2>"
   ]
  },
  {
   "cell_type": "code",
   "execution_count": null,
   "metadata": {},
   "outputs": [
    {
     "name": "stdout",
     "output_type": "stream",
     "text": [
      "  Postcode           Borough                      Neighborhood   Latitude  \\\n",
      "0      M3A        North York                         Parkwoods  43.753259   \n",
      "1      M4A        North York                  Victoria Village  43.725882   \n",
      "2      M5A  Downtown Toronto         Harbourfront, Regent Park  43.654260   \n",
      "3      M6A        North York  Lawrence Heights, Lawrence Manor  43.718518   \n",
      "4      M7A      Queen's Park                      Queen's Park  43.662301   \n",
      "\n",
      "   Longitude  \n",
      "0 -79.329656  \n",
      "1 -79.315572  \n",
      "2 -79.360636  \n",
      "3 -79.464763  \n",
      "4 -79.389494  \n"
     ]
    }
   ],
   "source": [
    "location_data_source = \"https://cocl.us/Geospatial_data\"\n",
    "\n",
    "location_df = pd.read_csv(location_data_source)\n",
    "# print(location_df)\n",
    "\n",
    "toronto_neighborhoods = pd.merge(df, location_df, left_on='Postcode', right_on='Postal Code', how='inner')\n",
    "# b = a(['Postcode', 'Borough', 'Neighborhood', 'Latitude', 'Longitude'])\n",
    "toronto_neighborhoods.drop(['Postal Code'], axis=1, inplace=True)\n",
    "print(toronto_neighborhoods.head())"
   ]
  },
  {
   "cell_type": "code",
   "execution_count": null,
   "metadata": {},
   "outputs": [
    {
     "name": "stdout",
     "output_type": "stream",
     "text": [
      "    Postcode           Borough  \\\n",
      "0        M3A        North York   \n",
      "1        M4A        North York   \n",
      "2        M5A  Downtown Toronto   \n",
      "3        M6A        North York   \n",
      "4        M7A      Queen's Park   \n",
      "5        M9A         Etobicoke   \n",
      "6        M1B       Scarborough   \n",
      "7        M3B        North York   \n",
      "8        M4B         East York   \n",
      "9        M5B  Downtown Toronto   \n",
      "10       M6B        North York   \n",
      "11       M9B         Etobicoke   \n",
      "12       M1C       Scarborough   \n",
      "13       M3C        North York   \n",
      "14       M4C         East York   \n",
      "15       M5C  Downtown Toronto   \n",
      "16       M6C              York   \n",
      "17       M9C         Etobicoke   \n",
      "18       M1E       Scarborough   \n",
      "19       M4E      East Toronto   \n",
      "20       M5E  Downtown Toronto   \n",
      "21       M6E              York   \n",
      "22       M1G       Scarborough   \n",
      "23       M4G         East York   \n",
      "24       M5G  Downtown Toronto   \n",
      "25       M6G  Downtown Toronto   \n",
      "26       M1H       Scarborough   \n",
      "27       M2H        North York   \n",
      "28       M3H        North York   \n",
      "29       M4H         East York   \n",
      "..       ...               ...   \n",
      "73       M4R   Central Toronto   \n",
      "74       M5R   Central Toronto   \n",
      "75       M6R      West Toronto   \n",
      "76       M7R       Mississauga   \n",
      "77       M9R         Etobicoke   \n",
      "78       M1S       Scarborough   \n",
      "79       M4S   Central Toronto   \n",
      "80       M5S  Downtown Toronto   \n",
      "81       M6S      West Toronto   \n",
      "82       M1T       Scarborough   \n",
      "83       M4T   Central Toronto   \n",
      "84       M5T  Downtown Toronto   \n",
      "85       M1V       Scarborough   \n",
      "86       M4V   Central Toronto   \n",
      "87       M5V  Downtown Toronto   \n",
      "88       M8V         Etobicoke   \n",
      "89       M9V         Etobicoke   \n",
      "90       M1W       Scarborough   \n",
      "91       M4W  Downtown Toronto   \n",
      "92       M5W  Downtown Toronto   \n",
      "93       M8W         Etobicoke   \n",
      "94       M9W         Etobicoke   \n",
      "95       M1X       Scarborough   \n",
      "96       M4X  Downtown Toronto   \n",
      "97       M5X  Downtown Toronto   \n",
      "98       M8X         Etobicoke   \n",
      "99       M4Y  Downtown Toronto   \n",
      "100      M7Y      East Toronto   \n",
      "101      M8Y         Etobicoke   \n",
      "102      M8Z         Etobicoke   \n",
      "\n",
      "                                          Neighborhood   Latitude  Longitude  \n",
      "0                                            Parkwoods  43.753259 -79.329656  \n",
      "1                                     Victoria Village  43.725882 -79.315572  \n",
      "2                            Harbourfront, Regent Park  43.654260 -79.360636  \n",
      "3                     Lawrence Heights, Lawrence Manor  43.718518 -79.464763  \n",
      "4                                         Queen's Park  43.662301 -79.389494  \n",
      "5                                     Islington Avenue  43.667856 -79.532242  \n",
      "6                                       Rouge, Malvern  43.806686 -79.194353  \n",
      "7                                      Don Mills North  43.745906 -79.352188  \n",
      "8                      Woodbine Gardens, Parkview Hill  43.706397 -79.309937  \n",
      "9                             Ryerson, Garden District  43.657162 -79.378937  \n",
      "10                                           Glencairn  43.709577 -79.445073  \n",
      "11   Cloverdale, Islington, Martin Grove, Princess ...  43.650943 -79.554724  \n",
      "12              Highland Creek, Rouge Hill, Port Union  43.784535 -79.160497  \n",
      "13                    Flemingdon Park, Don Mills South  43.725900 -79.340923  \n",
      "14                                    Woodbine Heights  43.695344 -79.318389  \n",
      "15                                      St. James Town  43.651494 -79.375418  \n",
      "16                                  Humewood-Cedarvale  43.693781 -79.428191  \n",
      "17   Bloordale Gardens, Eringate, Markland Wood, Ol...  43.643515 -79.577201  \n",
      "18                   Guildwood, Morningside, West Hill  43.763573 -79.188711  \n",
      "19                                         The Beaches  43.676357 -79.293031  \n",
      "20                                         Berczy Park  43.644771 -79.373306  \n",
      "21                                 Caledonia-Fairbanks  43.689026 -79.453512  \n",
      "22                                              Woburn  43.770992 -79.216917  \n",
      "23                                             Leaside  43.709060 -79.363452  \n",
      "24                                  Central Bay Street  43.657952 -79.387383  \n",
      "25                                            Christie  43.669542 -79.422564  \n",
      "26                                           Cedarbrae  43.773136 -79.239476  \n",
      "27                                   Hillcrest Village  43.803762 -79.363452  \n",
      "28     Bathurst Manor, Downsview North, Wilson Heights  43.754328 -79.442259  \n",
      "29                                    Thorncliffe Park  43.705369 -79.349372  \n",
      "..                                                 ...        ...        ...  \n",
      "73                                  North Toronto West  43.715383 -79.405678  \n",
      "74                 The Annex, North Midtown, Yorkville  43.672710 -79.405678  \n",
      "75                              Parkdale, Roncesvalles  43.648960 -79.456325  \n",
      "76               Canada Post Gateway Processing Centre  43.636966 -79.615819  \n",
      "77   Kingsview Village, Martin Grove Gardens, Richv...  43.688905 -79.554724  \n",
      "78                                           Agincourt  43.794200 -79.262029  \n",
      "79                                          Davisville  43.704324 -79.388790  \n",
      "80                      Harbord, University of Toronto  43.662696 -79.400049  \n",
      "81                                  Runnymede, Swansea  43.651571 -79.484450  \n",
      "82             Clarks Corners, Sullivan, Tam O'Shanter  43.781638 -79.304302  \n",
      "83                         Moore Park, Summerhill East  43.689574 -79.383160  \n",
      "84           Chinatown, Grange Park, Kensington Market  43.653206 -79.400049  \n",
      "85   Agincourt North, L'Amoreaux East, Milliken, St...  43.815252 -79.284577  \n",
      "86   Deer Park, Forest Hill SE, Rathnelly, South Hi...  43.686412 -79.400049  \n",
      "87   CN Tower, Bathurst Quay, Island airport, Harbo...  43.628947 -79.394420  \n",
      "88        Humber Bay Shores, Mimico South, New Toronto  43.605647 -79.501321  \n",
      "89   Albion Gardens, Beaumond Heights, Humbergate, ...  43.739416 -79.588437  \n",
      "90                                     L'Amoreaux West  43.799525 -79.318389  \n",
      "91                                            Rosedale  43.679563 -79.377529  \n",
      "92                     Stn A PO Boxes 25 The Esplanade  43.646435 -79.374846  \n",
      "93                              Alderwood, Long Branch  43.602414 -79.543484  \n",
      "94                                           Northwest  43.706748 -79.594054  \n",
      "95                                         Upper Rouge  43.836125 -79.205636  \n",
      "96                         Cabbagetown, St. James Town  43.667967 -79.367675  \n",
      "97              First Canadian Place, Underground city  43.648429 -79.382280  \n",
      "98       The Kingsway, Montgomery Road, Old Mill North  43.653654 -79.506944  \n",
      "99                                Church and Wellesley  43.665860 -79.383160  \n",
      "100  Business Reply Mail Processing Centre 969 Eastern  43.662744 -79.321558  \n",
      "101  Humber Bay, King's Mill Park, Kingsway Park So...  43.636258 -79.498509  \n",
      "102  Kingsway Park South West, Mimico NW, The Queen...  43.628841 -79.520999  \n",
      "\n",
      "[103 rows x 5 columns]\n"
     ]
    }
   ],
   "source": [
    "print(toronto_neighborhoods)"
   ]
  },
  {
   "cell_type": "markdown",
   "metadata": {},
   "source": [
    "<h2>Submission 3:<br/>Visualization of Toronto data.</h2>"
   ]
  },
  {
   "cell_type": "code",
   "execution_count": null,
   "metadata": {},
   "outputs": [
    {
     "name": "stdout",
     "output_type": "stream",
     "text": [
      "Solving environment: / "
     ]
    }
   ],
   "source": [
    "import requests # library to handle requests\n",
    "from pandas.io.json import json_normalize # tranform JSON file into a \n",
    "\n",
    "# Matplotlib and associated plotting modules\n",
    "import matplotlib.cm as cm\n",
    "import matplotlib.colors as colors\n",
    "\n",
    "# import k-means from clustering stage\n",
    "from sklearn.cluster import KMeans\n",
    "\n",
    "!conda install -c conda-forge folium=0.5.0 --yes # uncomment this line if you haven't completed the Foursquare API lab\n",
    "import folium # map rendering library\n"
   ]
  },
  {
   "cell_type": "code",
   "execution_count": null,
   "metadata": {
    "scrolled": true
   },
   "outputs": [],
   "source": [
    "# create map of New York using latitude and longitude values\n",
    "latitude = 43.753259\n",
    "longitude = -79.329656\n",
    "map_toronto = folium.Map(location=[latitude, longitude], zoom_start=10)\n",
    "\n",
    "# add markers to map\n",
    "for lat, lng, borough, neighborhood in zip(toronto_neighborhoods['Latitude'], toronto_neighborhoods['Longitude'],\n",
    "                                           toronto_neighborhoods['Borough'], toronto_neighborhoods['Neighborhood']):\n",
    "    label = '{}, {}'.format(neighborhood, borough)\n",
    "    label = folium.Popup(label, parse_html=True)\n",
    "    folium.CircleMarker(\n",
    "        [lat, lng],\n",
    "        radius=5,\n",
    "        popup=label,\n",
    "        color='blue',\n",
    "        fill=True,\n",
    "        fill_color='#3186cc',\n",
    "        fill_opacity=0.7,\n",
    "        parse_html=False).add_to(map_toronto)  \n",
    "    \n",
    "map_toronto"
   ]
  },
  {
   "cell_type": "markdown",
   "metadata": {},
   "source": [
    "Define credentials for Foursquare"
   ]
  },
  {
   "cell_type": "code",
   "execution_count": null,
   "metadata": {},
   "outputs": [],
   "source": [
    "CLIENT_ID = 'x' # your Foursquare ID\n",
    "CLIENT_SECRET = 'x' # your Foursquare Secret\n",
    "VERSION = '20191009' # Foursquare API version\n",
    "radius=500\n",
    "LIMIT=100\n",
    "\n",
    "print('Your credentails:')\n",
    "print('CLIENT_ID: ' + CLIENT_ID)\n",
    "print('CLIENT_SECRET:' + CLIENT_SECRET)"
   ]
  },
  {
   "cell_type": "code",
   "execution_count": null,
   "metadata": {},
   "outputs": [],
   "source": [
    "def getNearbyVenues(names, latitudes, longitudes, radius=500):\n",
    "    \n",
    "    venues_list=[]\n",
    "    for name, lat, lng in zip(names, latitudes, longitudes):\n",
    "        print(name)\n",
    "            \n",
    "        # create the API request URL\n",
    "        url = 'https://api.foursquare.com/v2/venues/explore?&client_id={}&client_secret={}&v={}&ll={},{}&radius={}&limit={}'.format(\n",
    "            CLIENT_ID, \n",
    "            CLIENT_SECRET, \n",
    "            VERSION, \n",
    "            lat, \n",
    "            lng, \n",
    "            radius, \n",
    "            LIMIT)\n",
    "            \n",
    "        # make the GET request\n",
    "        results = requests.get(url).json()[\"response\"]['groups'][0]['items']\n",
    "        \n",
    "        # return only relevant information for each nearby venue\n",
    "        venues_list.append([(\n",
    "            name, \n",
    "            lat, \n",
    "            lng, \n",
    "            v['venue']['name'], \n",
    "            v['venue']['location']['lat'], \n",
    "            v['venue']['location']['lng'],  \n",
    "            v['venue']['categories'][0]['name']) for v in results])\n",
    "\n",
    "    nearby_venues = pd.DataFrame([item for venue_list in venues_list for item in venue_list])\n",
    "    nearby_venues.columns = ['Postcode', \n",
    "                  'Postcode Latitude', \n",
    "                  'Postcode Longitude', \n",
    "                  'Venue', \n",
    "                  'Venue Latitude', \n",
    "                  'Venue Longitude', \n",
    "                  'Venue Category']\n",
    "    \n",
    "    return(nearby_venues)"
   ]
  },
  {
   "cell_type": "code",
   "execution_count": null,
   "metadata": {},
   "outputs": [],
   "source": [
    "toronto_venues = getNearbyVenues(names=toronto_neighborhoods['Postcode'],\n",
    "                                   latitudes=toronto_neighborhoods['Latitude'],\n",
    "                                   longitudes=toronto_neighborhoods['Longitude']\n",
    "                                  )\n"
   ]
  },
  {
   "cell_type": "code",
   "execution_count": null,
   "metadata": {},
   "outputs": [],
   "source": [
    "print(toronto_venues.head(20))\n",
    "toronto_venues.groupby('Postcode').count()"
   ]
  },
  {
   "cell_type": "code",
   "execution_count": null,
   "metadata": {},
   "outputs": [],
   "source": [
    "print('There are {} uniques categories.'.format(len(toronto_venues['Venue Category'].unique())))"
   ]
  },
  {
   "cell_type": "code",
   "execution_count": null,
   "metadata": {},
   "outputs": [],
   "source": [
    "# one hot encoding\n",
    "toronto_onehot = pd.get_dummies(toronto_venues[['Venue Category']], prefix=\"\", prefix_sep=\"\")\n",
    "\n",
    "# add neighborhood column back to dataframe\n",
    "toronto_onehot['Postcode'] = toronto_venues['Postcode'] \n",
    "\n",
    "# move neighborhood column to the first column\n",
    "fixed_columns = [toronto_onehot.columns[-1]] + list(toronto_onehot.columns[:-1])\n",
    "toronto_onehot = toronto_onehot[fixed_columns]\n",
    "\n",
    "toronto_onehot.head()"
   ]
  },
  {
   "cell_type": "code",
   "execution_count": null,
   "metadata": {},
   "outputs": [],
   "source": [
    "toronto_onehot.shape"
   ]
  },
  {
   "cell_type": "code",
   "execution_count": null,
   "metadata": {},
   "outputs": [],
   "source": [
    "toronto_grouped = toronto_onehot.groupby('Postcode').mean().reset_index()\n",
    "toronto_grouped"
   ]
  },
  {
   "cell_type": "code",
   "execution_count": null,
   "metadata": {},
   "outputs": [],
   "source": [
    "toronto_grouped.shape"
   ]
  },
  {
   "cell_type": "code",
   "execution_count": null,
   "metadata": {},
   "outputs": [],
   "source": [
    "num_top_venues = 5\n",
    "\n",
    "for hood in toronto_grouped['Postcode']:\n",
    "    print(\"----\"+hood+\"----\")\n",
    "    temp = toronto_grouped[toronto_grouped['Postcode'] == hood].T.reset_index()\n",
    "    temp.columns = ['venue','freq']\n",
    "    temp = temp.iloc[1:]\n",
    "    temp['freq'] = temp['freq'].astype(float)\n",
    "    temp = temp.round({'freq': 2})\n",
    "    print(temp.sort_values('freq', ascending=False).reset_index(drop=True).head(num_top_venues))\n",
    "    print('\\n')"
   ]
  },
  {
   "cell_type": "code",
   "execution_count": null,
   "metadata": {},
   "outputs": [],
   "source": []
  }
 ],
 "metadata": {
  "kernelspec": {
   "display_name": "Python 3.6",
   "language": "python",
   "name": "python3"
  },
  "language_info": {
   "codemirror_mode": {
    "name": "ipython",
    "version": 3
   },
   "file_extension": ".py",
   "mimetype": "text/x-python",
   "name": "python",
   "nbconvert_exporter": "python",
   "pygments_lexer": "ipython3",
   "version": "3.6.8"
  }
 },
 "nbformat": 4,
 "nbformat_minor": 1
}
